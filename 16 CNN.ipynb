{
 "cells": [
  {
   "cell_type": "code",
   "execution_count": 22,
   "metadata": {},
   "outputs": [],
   "source": [
    "import json\n",
    "import numpy as np\n",
    "from sklearn.model_selection import train_test_split\n",
    "import tensorflow.keras as keras # type: ignore\n",
    "import matplotlib.pyplot as plt\n",
    "\n",
    "# path to json file that stores MFCCs and genre labels for each processed segment\n",
    "DATA_PATH = \"data_10.json\""
   ]
  },
  {
   "cell_type": "code",
   "execution_count": 23,
   "metadata": {},
   "outputs": [],
   "source": [
    "def load_data(data_path):\n",
    "    \"\"\"Loads training dataset from json file.\n",
    "\n",
    "    :param data_path (str): Path to json file containing data\n",
    "    :return X (ndarray): Inputs\n",
    "    :return y (ndarray): Targets\n",
    "    \"\"\"\n",
    "\n",
    "    with open(data_path, \"r\") as fp:\n",
    "        data = json.load(fp)\n",
    "\n",
    "    # convert lists to numpy arrays\n",
    "    X = np.array(data[\"mfcc\"])\n",
    "    y = np.array(data[\"labels\"])\n",
    "\n",
    "    print(\"Data successfully loaded!\")\n",
    "\n",
    "    return X, y\n"
   ]
  },
  {
   "cell_type": "code",
   "execution_count": 24,
   "metadata": {},
   "outputs": [
    {
     "name": "stdout",
     "output_type": "stream",
     "text": [
      "Data successfully loaded!\n"
     ]
    }
   ],
   "source": [
    "def prepare_datasets(test_size, validation_size):\n",
    "    \n",
    "    # load data\n",
    "    X,y = load_data(DATA_PATH)\n",
    "    \n",
    "    # create train/test split\n",
    "    X_train, X_test, y_train, y_test = train_test_split(X,y,test_size=test_size)\n",
    "    # create train/validation split\n",
    "    X_train, X_validation, y_train, y_validation = train_test_split(X_train, y_train, test_size=validation_size)\n",
    "    \n",
    "    #3d array -> (130, 13, 1)\n",
    "    X_train = X_train[..., np.newaxis]\n",
    "    X_validation = X_validation[..., np.newaxis]\n",
    "    X_test = X_test[..., np.newaxis]\n",
    "    \n",
    "    return X_train, X_validation, X_test, y_train, y_validation, y_test\n",
    "\n",
    "\n",
    "# create train, validation and test set\n",
    "X_train, X_validation, X_test, y_train, y_validation, y_test = prepare_datasets(0.25,0.2)\n",
    "\n"
   ]
  },
  {
   "cell_type": "code",
   "execution_count": 25,
   "metadata": {},
   "outputs": [],
   "source": [
    "#build the cnn net\n",
    "def build_model(input_shape):\n",
    "    model = keras.Sequential()\n",
    "    #1 conv layer\n",
    "    model.add(keras.layers.Conv2D(32, (3,3), activation='relu', input_shape = input_shape))\n",
    "    model.add(keras.layers.MaxPool2D((3,3), strides = (2,2), padding='same'))\n",
    "    model.add(keras.layers.BatchNormalization()) \n",
    "\n",
    "    #2 conv layer\n",
    "    model.add(keras.layers.Conv2D(32, (3,3), activation='relu', input_shape = input_shape))\n",
    "    model.add(keras.layers.MaxPool2D((3,3), strides = (2,2), padding='same'))\n",
    "    model.add(keras.layers.BatchNormalization())\n",
    "\n",
    "    #3 conv layer\n",
    "    model.add(keras.layers.Conv2D(32, (2,2), activation='relu', input_shape = input_shape))\n",
    "    model.add(keras.layers.MaxPool2D((2,2), strides = (2,2), padding='same'))\n",
    "    model.add(keras.layers.BatchNormalization())\n",
    "\n",
    "    #flatten the output and feed it into dense layer\n",
    "    model.add(keras.layers.Flatten())\n",
    "    model.add(keras.layers.Dense(64, activation = \"relu\"))\n",
    "    model.add(keras.layers.Dropout(0.3))\n",
    "\n",
    "    #output layer(softmax)\n",
    "    model.add(keras.layers.Dense(10, activation = 'softmax'))\n",
    "\n",
    "    return model\n",
    "    "
   ]
  },
  {
   "cell_type": "code",
   "execution_count": 26,
   "metadata": {},
   "outputs": [
    {
     "name": "stderr",
     "output_type": "stream",
     "text": [
      "C:\\Users\\x1305\\AppData\\Roaming\\Python\\Python310\\site-packages\\keras\\src\\layers\\convolutional\\base_conv.py:107: UserWarning: Do not pass an `input_shape`/`input_dim` argument to a layer. When using Sequential models, prefer using an `Input(shape)` object as the first layer in the model instead.\n",
      "  super().__init__(activity_regularizer=activity_regularizer, **kwargs)\n"
     ]
    }
   ],
   "source": [
    "\n",
    "input_shape = (X_train.shape[1], X_train.shape[2], 1) \n",
    "model = build_model(input_shape)"
   ]
  },
  {
   "cell_type": "code",
   "execution_count": 27,
   "metadata": {},
   "outputs": [],
   "source": [
    "#compile\n",
    "optimizer = keras.optimizers.Adam(learning_rate = 0.0001)\n",
    "model.compile(optimizer = optimizer, loss = \"sparse_categorical_crossentropy\", metrics = ['accuracy'])"
   ]
  },
  {
   "cell_type": "code",
   "execution_count": 28,
   "metadata": {},
   "outputs": [
    {
     "name": "stdout",
     "output_type": "stream",
     "text": [
      "Epoch 1/30\n",
      "\u001b[1m188/188\u001b[0m \u001b[32m━━━━━━━━━━━━━━━━━━━━\u001b[0m\u001b[37m\u001b[0m \u001b[1m4s\u001b[0m 12ms/step - accuracy: 0.1507 - loss: 2.7239 - val_accuracy: 0.3500 - val_loss: 1.8330\n",
      "Epoch 2/30\n",
      "\u001b[1m188/188\u001b[0m \u001b[32m━━━━━━━━━━━━━━━━━━━━\u001b[0m\u001b[37m\u001b[0m \u001b[1m2s\u001b[0m 11ms/step - accuracy: 0.3414 - loss: 1.8784 - val_accuracy: 0.4473 - val_loss: 1.5484\n",
      "Epoch 3/30\n",
      "\u001b[1m188/188\u001b[0m \u001b[32m━━━━━━━━━━━━━━━━━━━━\u001b[0m\u001b[37m\u001b[0m \u001b[1m2s\u001b[0m 12ms/step - accuracy: 0.4031 - loss: 1.6751 - val_accuracy: 0.4827 - val_loss: 1.4225\n",
      "Epoch 4/30\n",
      "\u001b[1m188/188\u001b[0m \u001b[32m━━━━━━━━━━━━━━━━━━━━\u001b[0m\u001b[37m\u001b[0m \u001b[1m3s\u001b[0m 13ms/step - accuracy: 0.4467 - loss: 1.5514 - val_accuracy: 0.5100 - val_loss: 1.3435\n",
      "Epoch 5/30\n",
      "\u001b[1m188/188\u001b[0m \u001b[32m━━━━━━━━━━━━━━━━━━━━\u001b[0m\u001b[37m\u001b[0m \u001b[1m3s\u001b[0m 13ms/step - accuracy: 0.4730 - loss: 1.4639 - val_accuracy: 0.5307 - val_loss: 1.2888\n",
      "Epoch 6/30\n",
      "\u001b[1m188/188\u001b[0m \u001b[32m━━━━━━━━━━━━━━━━━━━━\u001b[0m\u001b[37m\u001b[0m \u001b[1m2s\u001b[0m 11ms/step - accuracy: 0.5102 - loss: 1.3556 - val_accuracy: 0.5413 - val_loss: 1.2413\n",
      "Epoch 7/30\n",
      "\u001b[1m188/188\u001b[0m \u001b[32m━━━━━━━━━━━━━━━━━━━━\u001b[0m\u001b[37m\u001b[0m \u001b[1m2s\u001b[0m 10ms/step - accuracy: 0.5140 - loss: 1.3322 - val_accuracy: 0.5560 - val_loss: 1.1967\n",
      "Epoch 8/30\n",
      "\u001b[1m188/188\u001b[0m \u001b[32m━━━━━━━━━━━━━━━━━━━━\u001b[0m\u001b[37m\u001b[0m \u001b[1m2s\u001b[0m 10ms/step - accuracy: 0.5613 - loss: 1.2518 - val_accuracy: 0.5793 - val_loss: 1.1637\n",
      "Epoch 9/30\n",
      "\u001b[1m188/188\u001b[0m \u001b[32m━━━━━━━━━━━━━━━━━━━━\u001b[0m\u001b[37m\u001b[0m \u001b[1m2s\u001b[0m 11ms/step - accuracy: 0.5625 - loss: 1.2207 - val_accuracy: 0.5887 - val_loss: 1.1268\n",
      "Epoch 10/30\n",
      "\u001b[1m188/188\u001b[0m \u001b[32m━━━━━━━━━━━━━━━━━━━━\u001b[0m\u001b[37m\u001b[0m \u001b[1m2s\u001b[0m 11ms/step - accuracy: 0.5817 - loss: 1.1653 - val_accuracy: 0.5973 - val_loss: 1.1166\n",
      "Epoch 11/30\n",
      "\u001b[1m188/188\u001b[0m \u001b[32m━━━━━━━━━━━━━━━━━━━━\u001b[0m\u001b[37m\u001b[0m \u001b[1m2s\u001b[0m 11ms/step - accuracy: 0.5945 - loss: 1.1472 - val_accuracy: 0.6093 - val_loss: 1.0789\n",
      "Epoch 12/30\n",
      "\u001b[1m188/188\u001b[0m \u001b[32m━━━━━━━━━━━━━━━━━━━━\u001b[0m\u001b[37m\u001b[0m \u001b[1m2s\u001b[0m 10ms/step - accuracy: 0.6057 - loss: 1.1079 - val_accuracy: 0.5993 - val_loss: 1.0892\n",
      "Epoch 13/30\n",
      "\u001b[1m188/188\u001b[0m \u001b[32m━━━━━━━━━━━━━━━━━━━━\u001b[0m\u001b[37m\u001b[0m \u001b[1m2s\u001b[0m 10ms/step - accuracy: 0.6130 - loss: 1.0999 - val_accuracy: 0.6160 - val_loss: 1.0543\n",
      "Epoch 14/30\n",
      "\u001b[1m188/188\u001b[0m \u001b[32m━━━━━━━━━━━━━━━━━━━━\u001b[0m\u001b[37m\u001b[0m \u001b[1m2s\u001b[0m 10ms/step - accuracy: 0.6357 - loss: 1.0566 - val_accuracy: 0.6273 - val_loss: 1.0295\n",
      "Epoch 15/30\n",
      "\u001b[1m188/188\u001b[0m \u001b[32m━━━━━━━━━━━━━━━━━━━━\u001b[0m\u001b[37m\u001b[0m \u001b[1m2s\u001b[0m 10ms/step - accuracy: 0.6370 - loss: 1.0231 - val_accuracy: 0.6347 - val_loss: 1.0216\n",
      "Epoch 16/30\n",
      "\u001b[1m188/188\u001b[0m \u001b[32m━━━━━━━━━━━━━━━━━━━━\u001b[0m\u001b[37m\u001b[0m \u001b[1m2s\u001b[0m 10ms/step - accuracy: 0.6538 - loss: 0.9864 - val_accuracy: 0.6447 - val_loss: 1.0060\n",
      "Epoch 17/30\n",
      "\u001b[1m188/188\u001b[0m \u001b[32m━━━━━━━━━━━━━━━━━━━━\u001b[0m\u001b[37m\u001b[0m \u001b[1m2s\u001b[0m 10ms/step - accuracy: 0.6645 - loss: 0.9658 - val_accuracy: 0.6247 - val_loss: 1.0206\n",
      "Epoch 18/30\n",
      "\u001b[1m188/188\u001b[0m \u001b[32m━━━━━━━━━━━━━━━━━━━━\u001b[0m\u001b[37m\u001b[0m \u001b[1m2s\u001b[0m 11ms/step - accuracy: 0.6705 - loss: 0.9384 - val_accuracy: 0.6567 - val_loss: 0.9700\n",
      "Epoch 19/30\n",
      "\u001b[1m188/188\u001b[0m \u001b[32m━━━━━━━━━━━━━━━━━━━━\u001b[0m\u001b[37m\u001b[0m \u001b[1m2s\u001b[0m 11ms/step - accuracy: 0.6737 - loss: 0.9148 - val_accuracy: 0.6593 - val_loss: 0.9753\n",
      "Epoch 20/30\n",
      "\u001b[1m188/188\u001b[0m \u001b[32m━━━━━━━━━━━━━━━━━━━━\u001b[0m\u001b[37m\u001b[0m \u001b[1m2s\u001b[0m 10ms/step - accuracy: 0.6860 - loss: 0.8930 - val_accuracy: 0.6520 - val_loss: 0.9704\n",
      "Epoch 21/30\n",
      "\u001b[1m188/188\u001b[0m \u001b[32m━━━━━━━━━━━━━━━━━━━━\u001b[0m\u001b[37m\u001b[0m \u001b[1m2s\u001b[0m 10ms/step - accuracy: 0.7039 - loss: 0.8378 - val_accuracy: 0.6653 - val_loss: 0.9346\n",
      "Epoch 22/30\n",
      "\u001b[1m188/188\u001b[0m \u001b[32m━━━━━━━━━━━━━━━━━━━━\u001b[0m\u001b[37m\u001b[0m \u001b[1m2s\u001b[0m 11ms/step - accuracy: 0.7198 - loss: 0.8344 - val_accuracy: 0.6727 - val_loss: 0.9209\n",
      "Epoch 23/30\n",
      "\u001b[1m188/188\u001b[0m \u001b[32m━━━━━━━━━━━━━━━━━━━━\u001b[0m\u001b[37m\u001b[0m \u001b[1m2s\u001b[0m 11ms/step - accuracy: 0.7121 - loss: 0.8305 - val_accuracy: 0.6893 - val_loss: 0.9121\n",
      "Epoch 24/30\n",
      "\u001b[1m188/188\u001b[0m \u001b[32m━━━━━━━━━━━━━━━━━━━━\u001b[0m\u001b[37m\u001b[0m \u001b[1m2s\u001b[0m 11ms/step - accuracy: 0.7186 - loss: 0.8107 - val_accuracy: 0.6713 - val_loss: 0.9397\n",
      "Epoch 25/30\n",
      "\u001b[1m188/188\u001b[0m \u001b[32m━━━━━━━━━━━━━━━━━━━━\u001b[0m\u001b[37m\u001b[0m \u001b[1m2s\u001b[0m 12ms/step - accuracy: 0.7267 - loss: 0.7879 - val_accuracy: 0.6700 - val_loss: 0.9566\n",
      "Epoch 26/30\n",
      "\u001b[1m188/188\u001b[0m \u001b[32m━━━━━━━━━━━━━━━━━━━━\u001b[0m\u001b[37m\u001b[0m \u001b[1m3s\u001b[0m 13ms/step - accuracy: 0.7169 - loss: 0.7999 - val_accuracy: 0.6973 - val_loss: 0.8770\n",
      "Epoch 27/30\n",
      "\u001b[1m188/188\u001b[0m \u001b[32m━━━━━━━━━━━━━━━━━━━━\u001b[0m\u001b[37m\u001b[0m \u001b[1m2s\u001b[0m 11ms/step - accuracy: 0.7324 - loss: 0.7645 - val_accuracy: 0.6867 - val_loss: 0.9036\n",
      "Epoch 28/30\n",
      "\u001b[1m188/188\u001b[0m \u001b[32m━━━━━━━━━━━━━━━━━━━━\u001b[0m\u001b[37m\u001b[0m \u001b[1m2s\u001b[0m 10ms/step - accuracy: 0.7449 - loss: 0.7363 - val_accuracy: 0.6993 - val_loss: 0.8821\n",
      "Epoch 29/30\n",
      "\u001b[1m188/188\u001b[0m \u001b[32m━━━━━━━━━━━━━━━━━━━━\u001b[0m\u001b[37m\u001b[0m \u001b[1m2s\u001b[0m 10ms/step - accuracy: 0.7559 - loss: 0.6995 - val_accuracy: 0.7107 - val_loss: 0.8642\n",
      "Epoch 30/30\n",
      "\u001b[1m188/188\u001b[0m \u001b[32m━━━━━━━━━━━━━━━━━━━━\u001b[0m\u001b[37m\u001b[0m \u001b[1m2s\u001b[0m 10ms/step - accuracy: 0.7620 - loss: 0.6859 - val_accuracy: 0.7113 - val_loss: 0.8676\n"
     ]
    },
    {
     "data": {
      "text/plain": [
       "<keras.src.callbacks.history.History at 0x1bb832b96c0>"
      ]
     },
     "execution_count": 28,
     "metadata": {},
     "output_type": "execute_result"
    }
   ],
   "source": [
    "#train\n",
    "model.fit(X_train,y_train, validation_data=(X_validation,y_validation), batch_size=32, epochs=30)"
   ]
  },
  {
   "cell_type": "code",
   "execution_count": 29,
   "metadata": {},
   "outputs": [
    {
     "name": "stdout",
     "output_type": "stream",
     "text": [
      "\u001b[1m79/79\u001b[0m \u001b[32m━━━━━━━━━━━━━━━━━━━━\u001b[0m\u001b[37m\u001b[0m \u001b[1m0s\u001b[0m 4ms/step - accuracy: 0.7174 - loss: 0.8134\n",
      "accuracy on test set it: 0.7114846110343933\n"
     ]
    }
   ],
   "source": [
    "#eval\n",
    "test_error, test_accuracy = model.evaluate(X_test, y_test, verbose = 1)\n",
    "print(\"accuracy on test set it: {}\".format(test_accuracy))"
   ]
  },
  {
   "cell_type": "code",
   "execution_count": 36,
   "metadata": {},
   "outputs": [
    {
     "name": "stdout",
     "output_type": "stream",
     "text": [
      "\u001b[1m1/1\u001b[0m \u001b[32m━━━━━━━━━━━━━━━━━━━━\u001b[0m\u001b[37m\u001b[0m \u001b[1m0s\u001b[0m 23ms/step\n",
      "expected index: 9, Predicted index: [9]\n",
      "[9]\n",
      "expected genre: rock, Predicted genre: rock\n"
     ]
    }
   ],
   "source": [
    "# prediction on a sample\n",
    "genres = [\"blues\", \"classical\", \"country\", \"disco\", \"hip-pop\", \"jazz\", \"metal\", \"pop\", \"reggae\", \"rock\"]\n",
    "\n",
    "def predict(model, X, y):\n",
    "    X = X[np.newaxis]  # augumented 3d array X to a 4d array\n",
    "    # prediction is a 2d array [[0.1,0.2,...]]\n",
    "    prediction = model.predict(X)  # X -> (1, 130, 13, 1)\n",
    "    # extract index with max values in prediction\n",
    "    prediction_index = np.argmax(prediction, axis = 1) # get [index], then map it to the genre label\n",
    "    print(\"expected index: {}, Predicted index: {}\".format(y, prediction_index))\n",
    "    print(prediction_index)\n",
    "    predicted_genre = genres[prediction_index[0]]\n",
    "    y_genre = genres[y]\n",
    "    print(\"expected genre: {}, Predicted genre: {}\".format(y_genre, predicted_genre))\n",
    "    \n",
    "\n",
    "X = X_test[100]\n",
    "y = y_test[100]\n",
    "predict(model, X, y)"
   ]
  },
  {
   "cell_type": "code",
   "execution_count": null,
   "metadata": {},
   "outputs": [],
   "source": []
  }
 ],
 "metadata": {
  "kernelspec": {
   "display_name": "base",
   "language": "python",
   "name": "python3"
  },
  "language_info": {
   "codemirror_mode": {
    "name": "ipython",
    "version": 3
   },
   "file_extension": ".py",
   "mimetype": "text/x-python",
   "name": "python",
   "nbconvert_exporter": "python",
   "pygments_lexer": "ipython3",
   "version": "3.10.14"
  }
 },
 "nbformat": 4,
 "nbformat_minor": 2
}
