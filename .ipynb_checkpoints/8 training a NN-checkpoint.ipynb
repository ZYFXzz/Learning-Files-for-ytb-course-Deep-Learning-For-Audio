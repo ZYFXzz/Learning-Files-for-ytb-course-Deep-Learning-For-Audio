{
 "cells": [
  {
   "cell_type": "code",
   "execution_count": 4,
   "id": "bc4d3334-440a-4fb5-b6a6-d2d2b54675ce",
   "metadata": {},
   "outputs": [
    {
     "ename": "SyntaxError",
     "evalue": "invalid syntax (1883399053.py, line 52)",
     "output_type": "error",
     "traceback": [
      "\u001b[1;36m  Cell \u001b[1;32mIn[4], line 52\u001b[1;36m\u001b[0m\n\u001b[1;33m    self.,activations[i+1] = activations\u001b[0m\n\u001b[1;37m         ^\u001b[0m\n\u001b[1;31mSyntaxError\u001b[0m\u001b[1;31m:\u001b[0m invalid syntax\n"
     ]
    },
    {
     "name": "stdout",
     "output_type": "stream",
     "text": [
      "The history saving thread hit an unexpected error (OperationalError('database or disk is full')).History will not be written to the database.\n"
     ]
    }
   ],
   "source": [
    "import numpy as np\n",
    "\n",
    "# save actiavtions and derivatives  \n",
    "# implement backpropagation\n",
    "# implement gradient descent\n",
    "# implement train\n",
    "# train our net with some dummy dataset\n",
    "# make some prediction\n",
    "\n",
    "class MLP:\n",
    "    def __init__(self, num_inputs = 3, num_hidden = [3,3], num_outputs = 2):\n",
    "        \n",
    "        self.num_inputs = num_inputs\n",
    "        self.num_hidden = num_hidden\n",
    "        self.num_outputs = num_outputs\n",
    "        \n",
    "        layers = [self.num_inputs] + self.num_hidden + [self.num_outputs]\n",
    "        \n",
    "        #initiate random weights\n",
    "        weights = []\n",
    "        for i in range(len(layers)-1):\n",
    "            w = np.random.rand(layers[i], layers[i+1])\n",
    "            weights.append(w)\n",
    "        self.weights = weights\n",
    "        \n",
    "        activations = []\n",
    "        for i in range(len(layers)):\n",
    "            a = np.zeros(layers[i])\n",
    "            activations.append(a)\n",
    "        self.activations = activations\n",
    "        \n",
    "        derivatives = []\n",
    "        for i in range(len(layers) - 1):\n",
    "            d = np.zeros((layers[i], layers[i+1]))\n",
    "            derivatives.append(d)\n",
    "        self.derivatives = derivatives\n",
    "                    \n",
    "            \n",
    "    def forward_propagate(self, inputs):\n",
    "        \n",
    "        #input layer\n",
    "        activations = inputs\n",
    "        self.activations[0] = inputs\n",
    "        \n",
    "        #iterate through the newwork layers\n",
    "        for i, w in enumerate(self.weights):\n",
    "            #calculate matrix multiplcation between previous activation and weight matrix\n",
    "            net_inputs = np.dot(activations, w)\n",
    "            \n",
    "            #apply sigmoid activation function\n",
    "            activations = self.sigmoid(net_inputs)\n",
    "            self.,activations[i+1] = activations\n",
    "        \n",
    "        #a_3 = s(h_3)\n",
    "        #h_3 = a_2 * W_2\n",
    "        \n",
    "        return activations\n",
    "    \n",
    "    def back_propagate(self, error):\n",
    "        \n",
    "        #dE/dW_i = (y- a_[i+1]) s'(h_[i+1]) a_i\n",
    "        #s'(h_[i+1]) = s(h_[i+1])(1 - s(h_[i+1]))\n",
    "        #s(h_[i+1]) = a([i+1])\n",
    "        \n",
    "        for i in reversed(range(len(self.derivatives))):\n",
    "            activations = self.activations[i+1]\n",
    "            delta = error * self._sigmoid_derivative(activations)\n",
    "        \n",
    "        \n",
    "    def _sigmoid_derivatives(self,x):\n",
    "        return x * (1.0 - x)\n",
    "    \n",
    "    def _sigmoid(self, x):\n",
    "        return 1.0 / (1 + np.exp(-x))\n",
    "\n",
    "\n",
    "# create a Multilayer Perceptron\n",
    "mlp = MLP()\n",
    "\n",
    "\n",
    "    # set random values for network's input\n",
    "inputs = np.random.rand(mlp.num_inputs)\n",
    "print(inputs)\n",
    "    # perform forward propagation\n",
    "output = mlp.forward_propagate(inputs)\n",
    "\n",
    "print(\"Network activation: {}\".format(output))\n"
   ]
  },
  {
   "cell_type": "raw",
   "id": "acfd8eb7-2eb3-46b8-aea7-6b68db586ed6",
   "metadata": {},
   "source": []
  }
 ],
 "metadata": {
  "kernelspec": {
   "display_name": "Python 3 (ipykernel)",
   "language": "python",
   "name": "python3"
  },
  "language_info": {
   "codemirror_mode": {
    "name": "ipython",
    "version": 3
   },
   "file_extension": ".py",
   "mimetype": "text/x-python",
   "name": "python",
   "nbconvert_exporter": "python",
   "pygments_lexer": "ipython3",
   "version": "3.10.9"
  }
 },
 "nbformat": 4,
 "nbformat_minor": 5
}
