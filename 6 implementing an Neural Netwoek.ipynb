{
 "cells": [
  {
   "cell_type": "code",
   "execution_count": 21,
   "id": "ac37c247-ef67-4a76-b150-225f3b446f06",
   "metadata": {},
   "outputs": [
    {
     "name": "stdout",
     "output_type": "stream",
     "text": [
      "[0.51749723 0.78075736 0.25199678]\n",
      "Network activation: [0.72836417 0.78119379]\n"
     ]
    }
   ],
   "source": [
    "import numpy as np\n",
    "\n",
    "class MLP:\n",
    "    def __init__(self, num_inputs = 3, num_hidden = [3,3], num_outputs = 2):\n",
    "        \n",
    "        self.num_inputs = num_inputs\n",
    "        self.num_hidden = num_hidden\n",
    "        self.num_outputs = num_outputs\n",
    "        \n",
    "        layers = [self.num_inputs] + self.num_hidden + [self.num_outputs]\n",
    "        \n",
    "        #initiate random weights\n",
    "        self.weights = []\n",
    "        for i in range(len(layers)-1):\n",
    "            w = np.random.rand(layers[i], layers[i+1])\n",
    "            self.weights.append(w)\n",
    "            \n",
    "    def forward_propagate(self, inputs):\n",
    "        \n",
    "        activations = inputs\n",
    "        \n",
    "        for w in self.weights:\n",
    "            # calculate net inputs for the given layer\n",
    "            net_inputs = np.dot(activations, w)\n",
    "            # calculate the activations\n",
    "            activations = self._sigmoid(net_inputs)\n",
    "            #activations = np.sigmoid(net_inputs)\n",
    "    \n",
    "        return activations\n",
    "    \n",
    "    def _sigmoid(self, x):\n",
    "        return 1.0 / (1 + np.exp(-x))\n",
    "\n",
    "\n",
    "# create a Multilayer Perceptron\n",
    "mlp = MLP()\n",
    "\n",
    "\n",
    "    # set random values for network's input\n",
    "inputs = np.random.rand(mlp.num_inputs)\n",
    "print(inputs)\n",
    "    # perform forward propagation\n",
    "output = mlp.forward_propagate(inputs)\n",
    "\n",
    "print(\"Network activation: {}\".format(output))"
   ]
  },
  {
   "cell_type": "code",
   "execution_count": null,
   "id": "652f8a95-ccbe-403d-93c8-05b07e16949d",
   "metadata": {},
   "outputs": [],
   "source": []
  },
  {
   "cell_type": "code",
   "execution_count": null,
   "id": "eda86ab9-e00c-4573-bbc8-78c5687c5694",
   "metadata": {},
   "outputs": [],
   "source": []
  }
 ],
 "metadata": {
  "kernelspec": {
   "display_name": "Python 3 (ipykernel)",
   "language": "python",
   "name": "python3"
  },
  "language_info": {
   "codemirror_mode": {
    "name": "ipython",
    "version": 3
   },
   "file_extension": ".py",
   "mimetype": "text/x-python",
   "name": "python",
   "nbconvert_exporter": "python",
   "pygments_lexer": "ipython3",
   "version": "3.10.9"
  }
 },
 "nbformat": 4,
 "nbformat_minor": 5
}
